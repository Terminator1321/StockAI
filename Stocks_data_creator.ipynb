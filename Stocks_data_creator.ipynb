{
 "cells": [
  {
   "cell_type": "markdown",
   "id": "596f77af",
   "metadata": {},
   "source": [
    "downloading data from yahoo of stocks for 15 different companieds {APPLE, MICROSOFT, NVIDIA, INTEL, AMAZON, TESLA, FORD, TOYOTA,  TATA MOTORS, NTFLIX, HDFC, ICICI, SONY, QUALCOMM}"
   ]
  },
  {
   "cell_type": "code",
   "execution_count": 21,
   "id": "ec324ec5",
   "metadata": {},
   "outputs": [
    {
     "name": "stderr",
     "output_type": "stream",
     "text": [
      "C:\\Users\\Rohan\\AppData\\Local\\Temp\\ipykernel_18972\\436762695.py:8: FutureWarning: YF.download() has changed argument auto_adjust default to True\n",
      "  data = yf.download(tickers, start=\"2013-01-01\", end=\"2025-10-28\", interval=\"1d\", group_by=\"ticker\")\n",
      "[*********************100%***********************]  15 of 15 completed\n"
     ]
    },
    {
     "name": "stdout",
     "output_type": "stream",
     "text": [
      "Saved AAPL.csv\n",
      "Saved MSFT.csv\n",
      "Saved AMD.csv\n",
      "Saved NVDA.csv\n",
      "Saved INTC.csv\n",
      "Saved AMZN.csv\n",
      "Saved TSLA.csv\n",
      "Saved F.csv\n",
      "Saved TM.csv\n",
      "Saved TATAMOTORS.NS.csv\n",
      "Saved NFLX.csv\n",
      "Saved HDFCBANK.NS.csv\n",
      "Saved ICICIBANK.NS.csv\n",
      "Saved SONY.csv\n",
      "Saved QCOM.csv\n",
      "All data downloaded and saved!\n"
     ]
    }
   ],
   "source": [
    "import yfinance as yf\n",
    "\n",
    "tickers = [\n",
    "    \"AAPL\", \"MSFT\", \"AMD\", \"NVDA\", \"INTC\", \"AMZN\", \"TSLA\",\n",
    "    \"F\", \"TM\", \"TATAMOTORS.NS\", \"NFLX\", \"HDFCBANK.NS\",\n",
    "    \"ICICIBANK.NS\", \"SONY\", \"QCOM\"\n",
    "]\n",
    "data = yf.download(tickers, start=\"2013-01-01\", end=\"2025-10-28\", interval=\"1d\", group_by=\"ticker\")\n",
    "\n",
    "for ticker in tickers:\n",
    "    df = data[ticker]\n",
    "    df.to_csv(f\"Stocks/{ticker}.csv\")\n",
    "    print(f\"Saved {ticker}.csv\")\n",
    "\n",
    "print(\"All data downloaded and saved!\")\n"
   ]
  },
  {
   "cell_type": "markdown",
   "id": "8633bebf",
   "metadata": {},
   "source": [
    "To get day on date"
   ]
  },
  {
   "cell_type": "code",
   "execution_count": null,
   "id": "424cd2cd",
   "metadata": {},
   "outputs": [],
   "source": [
    "import datetime\n",
    "def get_day(date):\n",
    "    day = datetime.datetime.strptime(date, \"%Y-%m-%d\")\n",
    "    return day.weekday()+1\n",
    "\n",
    "print(get_day(datetime.datetime.now().strftime(\"%Y-%m-%d\")))  "
   ]
  },
  {
   "cell_type": "markdown",
   "id": "b9ac309b",
   "metadata": {},
   "source": [
    "cleaning and adding day with company ids"
   ]
  },
  {
   "cell_type": "code",
   "execution_count": 3,
   "id": "91983786",
   "metadata": {},
   "outputs": [
    {
     "name": "stdout",
     "output_type": "stream",
     "text": [
      "AAPL.csv : (3322, 11)\n",
      "AMD.csv : (3322, 11)\n",
      "AMZN.csv : (3322, 11)\n",
      "F.csv : (3322, 11)\n",
      "HDFCBANK.NS.csv : (3322, 11)\n",
      "ICICIBANK.NS.csv : (3322, 11)\n",
      "INTC.csv : (3322, 11)\n",
      "MSFT.csv : (3322, 11)\n",
      "NFLX.csv : (3322, 11)\n",
      "NVDA.csv : (3322, 11)\n",
      "QCOM.csv : (3322, 11)\n",
      "SONY.csv : (3322, 11)\n",
      "TATAMOTORS.NS.csv : (3322, 11)\n",
      "TM.csv : (3322, 11)\n",
      "TSLA.csv : (3322, 11)\n",
      "Combined data saved to combined_stocks_data.csv\n",
      "Total rows: 48174\n"
     ]
    }
   ],
   "source": [
    "import os\n",
    "import pandas as pd\n",
    "files = os.listdir(\"Stocks/\")\n",
    "companyID = 0\n",
    "ALL_DATA = []\n",
    "for file in files:\n",
    "    df = pd.read_csv(f\"Stocks/{file}\")\n",
    "    df = df.fillna(0)\n",
    "    df['CompanyID'] = companyID\n",
    "    df['weekday'] = df['Date'].apply(get_day) \n",
    "    df['year'] = pd.to_datetime(df['Date']).dt.year\n",
    "    df['month'] = pd.to_datetime(df['Date']).dt.month\n",
    "    df['day'] = pd.to_datetime(df['Date']).dt.day\n",
    "    ALL_DATA.append(df)\n",
    "    companyID += 1\n",
    "    print(file, \":\", df.shape)\n",
    "\n",
    "combined_df = pd.concat(ALL_DATA, ignore_index=True)\n",
    "combined_df = combined_df[combined_df['Close'] != 0.0]\n",
    "\n",
    "os.makedirs(\"Stocks/clean_data\", exist_ok=True)\n",
    "combined_df.to_csv(\"Stocks/clean_data/combined_stocks_data.csv\", index=False)\n",
    "\n",
    "print(\"Combined data saved to combined_stocks_data.csv\")\n",
    "print(\"Total rows:\", len(combined_df))"
   ]
  },
  {
   "cell_type": "code",
   "execution_count": 16,
   "id": "40e16c01",
   "metadata": {},
   "outputs": [
    {
     "name": "stdout",
     "output_type": "stream",
     "text": [
      "Company tags saved to tag.csv ✅\n",
      "   company tag  CompanyID\n",
      "0         AAPL          0\n",
      "1          AMD          1\n",
      "2         AMZN          2\n",
      "3            F          3\n",
      "4     HDFCBANK          4\n",
      "5    ICICIBANK          5\n",
      "6         INTC          6\n",
      "7         MSFT          7\n",
      "8         NFLX          8\n",
      "9         NVDA          9\n",
      "10        QCOM         10\n",
      "11        SONY         11\n",
      "12  TATAMOTORS         12\n",
      "13          TM         13\n",
      "14        TSLA         14\n"
     ]
    }
   ],
   "source": [
    "import os\n",
    "import pandas as pd\n",
    "\n",
    "files = os.listdir(\"Stocks/\")\n",
    "companyID = 0\n",
    "rows = []\n",
    "\n",
    "for file in files:\n",
    "    if file.endswith(\".csv\"):\n",
    "        tag = file.split(\".\")[0]\n",
    "        rows.append({\"company tag\": tag, \"CompanyID\": companyID})\n",
    "        companyID += 1\n",
    "\n",
    "df = pd.DataFrame(rows)\n",
    "\n",
    "os.makedirs(\"Stocks/clean_data\", exist_ok=True)\n",
    "df.to_csv(\"Stocks/clean_data/tag.csv\", index=False)\n",
    "\n",
    "print(\"Company tags saved to tag.csv ✅\")\n",
    "print(df)\n"
   ]
  }
 ],
 "metadata": {
  "kernelspec": {
   "display_name": "Python 3",
   "language": "python",
   "name": "python3"
  },
  "language_info": {
   "codemirror_mode": {
    "name": "ipython",
    "version": 3
   },
   "file_extension": ".py",
   "mimetype": "text/x-python",
   "name": "python",
   "nbconvert_exporter": "python",
   "pygments_lexer": "ipython3",
   "version": "3.13.7"
  }
 },
 "nbformat": 4,
 "nbformat_minor": 5
}
